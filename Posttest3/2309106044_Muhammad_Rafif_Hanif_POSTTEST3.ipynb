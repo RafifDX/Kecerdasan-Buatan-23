{
  "nbformat": 4,
  "nbformat_minor": 0,
  "metadata": {
    "colab": {
      "provenance": []
    },
    "kernelspec": {
      "name": "python3",
      "display_name": "Python 3"
    },
    "language_info": {
      "name": "python"
    }
  },
  "cells": [
    {
      "cell_type": "markdown",
      "source": [
        "# **POSTTEST 2**\n",
        "**Analisis Dataset**\n",
        "\n",
        "Pada bagian ini dilakukan analisis awal untuk memahami karakteristik dataset.  \n",
        "Langkah-langkah analisis meliputi:"
      ],
      "metadata": {
        "id": "E1Zqxnyyveej"
      }
    },
    {
      "cell_type": "markdown",
      "source": [
        "**1. Import Library**"
      ],
      "metadata": {
        "id": "iCLPqW7U7lVV"
      }
    },
    {
      "cell_type": "code",
      "source": [
        "import pandas as pd\n",
        "import numpy as np\n",
        "import matplotlib.pyplot as plt\n",
        "import seaborn as sns\n",
        "\n",
        "from sklearn.model_selection import train_test_split\n",
        "from sklearn.preprocessing import StandardScaler, MinMaxScaler\n",
        "from sklearn.preprocessing import OneHotEncoder\n",
        "from sklearn.compose import ColumnTransformer\n",
        "from sklearn.pipeline import Pipeline\n",
        "\n",
        "%matplotlib inline\n"
      ],
      "metadata": {
        "id": "MKkT46vu7zuA"
      },
      "execution_count": null,
      "outputs": []
    },
    {
      "cell_type": "markdown",
      "source": [
        "**2. Load Dataset**"
      ],
      "metadata": {
        "id": "YJEBsENP713v"
      }
    },
    {
      "cell_type": "code",
      "source": [
        "df = pd.read_csv('top2020.csv')\n",
        "\n",
        "# Tampilkan 5 record pertama\n",
        "df.head()\n"
      ],
      "metadata": {
        "id": "wj35TRKJ8Bdd"
      },
      "execution_count": null,
      "outputs": []
    },
    {
      "cell_type": "markdown",
      "source": [
        "**3. Statistik Deskriptif (numerik)**"
      ],
      "metadata": {
        "id": "2q9QNCDm8EWi"
      }
    },
    {
      "cell_type": "code",
      "source": [
        "# Menampilkan rata-rata, std, min, max, Q1, Q2, Q3\n",
        "df.describe()\n"
      ],
      "metadata": {
        "id": "O2AOIBHJ8JZu"
      },
      "execution_count": null,
      "outputs": []
    },
    {
      "cell_type": "markdown",
      "source": [
        "**4. Tampilkan 10 Record Pertama**"
      ],
      "metadata": {
        "id": "IvxSj6ft8MVt"
      }
    },
    {
      "cell_type": "code",
      "source": [
        "df.select_dtypes(include='number').head(10)"
      ],
      "metadata": {
        "id": "enUpVTL78Ur9"
      },
      "execution_count": null,
      "outputs": []
    },
    {
      "cell_type": "markdown",
      "source": [
        "**5. Informasi Dataset**"
      ],
      "metadata": {
        "id": "5EWEiBmJ8XNv"
      }
    },
    {
      "cell_type": "code",
      "source": [
        "print(\"Jumlah record:\", len(df))\n",
        "print(\"Jumlah attribute:\", len(df.columns))\n",
        "print(\"Nama attribute:\", list(df.columns))\n",
        "print(\"Jumlah attribute numerik:\", len(df.select_dtypes(include='number').columns))"
      ],
      "metadata": {
        "id": "qmfT-c3d8aX3"
      },
      "execution_count": null,
      "outputs": []
    },
    {
      "cell_type": "markdown",
      "source": [
        "**6. Jumlah Label Unik Utuk Attribute Object**"
      ],
      "metadata": {
        "id": "IWMrmJuL8cgp"
      }
    },
    {
      "cell_type": "code",
      "source": [
        "categorical_cols = df.select_dtypes(include='object').columns\n",
        "\n",
        "for col in categorical_cols:\n",
        "    print(f\"Attribute '{col}':\")\n",
        "    print(df[col].value_counts())\n",
        "    print(\"-\"*30)"
      ],
      "metadata": {
        "id": "tq4lq-im8kc2"
      },
      "execution_count": null,
      "outputs": []
    },
    {
      "cell_type": "markdown",
      "source": [
        "**7. Visualisasi Dataset**"
      ],
      "metadata": {
        "id": "g_ulY9ZS8obA"
      }
    },
    {
      "cell_type": "markdown",
      "source": [
        "Histogram (distribusi numerik)"
      ],
      "metadata": {
        "id": "1qv70Jqs8tyZ"
      }
    },
    {
      "cell_type": "code",
      "source": [
        "num_cols = df.select_dtypes(include='number').columns\n",
        "\n",
        "df[num_cols].hist(bins=15, figsize=(15,8), color='skyblue', edgecolor='black')\n",
        "plt.suptitle('Distribusi Attribute Numerik')\n",
        "plt.show()"
      ],
      "metadata": {
        "id": "j4Isf3Mz8w6Z"
      },
      "execution_count": null,
      "outputs": []
    },
    {
      "cell_type": "markdown",
      "source": [
        "Boxplot (untuk outlier)"
      ],
      "metadata": {
        "id": "3RE7i5-z80Jl"
      }
    },
    {
      "cell_type": "code",
      "source": [
        "plt.figure(figsize=(10,6))\n",
        "sns.boxplot(data=df[num_cols])\n",
        "plt.title('Boxplot Attribute Numerik')\n",
        "plt.show()"
      ],
      "metadata": {
        "id": "7nfBq4Hv9AgC"
      },
      "execution_count": null,
      "outputs": []
    },
    {
      "cell_type": "markdown",
      "source": [
        "**8. Korelasi Dataset (heatmap)**"
      ],
      "metadata": {
        "id": "hkYiLc4G9EaV"
      }
    },
    {
      "cell_type": "code",
      "source": [
        "plt.figure(figsize=(10,8))\n",
        "sns.heatmap(df[num_cols].corr(), annot=True, cmap='coolwarm', linewidths=0.5)\n",
        "plt.title('Heatmap Korelasi Attribute Numerik')\n",
        "plt.show()"
      ],
      "metadata": {
        "id": "zhkIC_qU9IGc"
      },
      "execution_count": null,
      "outputs": []
    },
    {
      "cell_type": "markdown",
      "source": [
        "**Kesimpulan analisis**"
      ],
      "metadata": {
        "id": "ro_dpIUC9Kmw"
      }
    },
    {
      "cell_type": "markdown",
      "source": [
        "1. Statistik deskriptif menunjukkan distribusi, rata-rata, standar deviasi, serta nilai min/max/Q1/Q2/Q3 untuk semua attribute numerik.\n",
        "2. 10 record pertama memberikan gambaran awal data numerik.\n",
        "3. Informasi dataset mempermudah mengetahui jumlah record, attribute, dan tipe data.\n",
        "4. Jumlah label unik di attribute kategorikal memberikan insight variabilitas data non-numerik.\n",
        "5. Histogram & boxplot membantu memahami distribusi dan mendeteksi outlier.\n",
        "6. Heatmap korelasi memperlihatkan hubungan antar attribute numerik, berguna untuk analisis lebih lanjut."
      ],
      "metadata": {
        "id": "3k8MjvwU9X8N"
      }
    },
    {
      "cell_type": "markdown",
      "source": [
        "#**POSTTEST 3**\n",
        "**Data Preprocessing Dataset**\n",
        "\n",
        "Pada bagian ini dilakukan preprocessing data agar dataset lebih bersih, terstandarisasi, dan siap dipakai untuk pemodelan machine learning.  \n",
        "Langkah-langkah yang dilakukan:"
      ],
      "metadata": {
        "id": "cisCqhctrV_0"
      }
    },
    {
      "cell_type": "markdown",
      "source": [
        "**9. Data Cleaning**\n",
        "   - Menangani missing value.  \n",
        "   - Menghapus duplicate.  \n",
        "   - Mengatasi outlier.  \n"
      ],
      "metadata": {
        "id": "C7Yk0s7fs3Ca"
      }
    },
    {
      "cell_type": "code",
      "source": [
        "print(\"\\n--- Missing Value ---\")\n",
        "print(\"Jumlah missing value sebelum cleaning:\")\n",
        "print(df.isnull().sum())\n",
        "\n",
        "df = df.dropna()  # drop baris yang ada missing\n",
        "\n",
        "print(\"Jumlah missing value setelah cleaning:\")\n",
        "print(df.isnull().sum())\n",
        "\n",
        "print(\"\\n--- Duplicate Value ---\")\n",
        "print(\"Jumlah duplikat sebelum cleaning:\", df.duplicated().sum())\n",
        "df = df.drop_duplicates()\n",
        "print(\"Jumlah duplikat setelah cleaning:\", df.duplicated().sum())\n",
        "\n",
        "print(\"\\n--- Outlier Handling (IQR Method) ---\")\n",
        "Q1 = df[num_cols].quantile(0.25)\n",
        "Q3 = df[num_cols].quantile(0.75)\n",
        "IQR = Q3 - Q1\n",
        "df = df[~((df[num_cols] < (Q1 - 1.5 * IQR)) | (df[num_cols] > (Q3 + 1.5 * IQR))).any(axis=1)]\n",
        "print(\"Jumlah record setelah outlier removal:\", len(df))"
      ],
      "metadata": {
        "id": "92EBu9-stIxU"
      },
      "execution_count": null,
      "outputs": []
    },
    {
      "cell_type": "markdown",
      "source": [
        "**10. Normalisasi / Standarisasi Kolom Numerik**\n",
        "   - Agar skala antar fitur numerik seragam."
      ],
      "metadata": {
        "id": "-FyUQayWtkY1"
      }
    },
    {
      "cell_type": "code",
      "source": [
        "scaler = StandardScaler()\n",
        "df[num_cols] = scaler.fit_transform(df[num_cols])\n",
        "print(\"\\nKolom numerik setelah standarisasi:\")\n",
        "display(df[num_cols].head())"
      ],
      "metadata": {
        "id": "LDTOJvZBtqSo"
      },
      "execution_count": null,
      "outputs": []
    },
    {
      "cell_type": "markdown",
      "source": [
        "**11. Encoding Kolom Kategorikal**\n",
        "   - Mengubah data kategorikal menjadi numerik agar bisa digunakan oleh algoritma ML."
      ],
      "metadata": {
        "id": "mFWfVdHDtrL2"
      }
    },
    {
      "cell_type": "code",
      "source": [
        "categorical_cols = df.select_dtypes(include='object').columns\n",
        "encoder = OneHotEncoder(sparse_output=False, drop='first')\n",
        "encoded = pd.DataFrame(\n",
        "    encoder.fit_transform(df[categorical_cols]),\n",
        "    columns=encoder.get_feature_names_out(categorical_cols),\n",
        "    index=df.index\n",
        ")\n",
        "df = pd.concat([df.drop(columns=categorical_cols), encoded], axis=1)\n",
        "print(\"\\nDataset setelah encoding:\")\n",
        "display(df.head())"
      ],
      "metadata": {
        "id": "4ChhdbqTtx7C"
      },
      "execution_count": null,
      "outputs": []
    },
    {
      "cell_type": "markdown",
      "source": [
        "**12. Feature Engineering**\n",
        "   - Menambahkan minimal satu fitur baru untuk memperkaya informasi."
      ],
      "metadata": {
        "id": "oEa11O8_t674"
      }
    },
    {
      "cell_type": "code",
      "source": [
        "if len(num_cols) >= 2:\n",
        "    df['feature_ratio'] = df[num_cols[0]] / (df[num_cols[1]] + 1e-9)\n",
        "    print(f\"\\nFitur baru 'feature_ratio' ditambahkan dari {num_cols[0]} / {num_cols[1]}\")\n",
        "display(df.head())"
      ],
      "metadata": {
        "id": "CUg2HKGyt90J"
      },
      "execution_count": null,
      "outputs": []
    },
    {
      "cell_type": "markdown",
      "source": [
        "**13. Splitting Data**\n",
        "   - Memisahkan data training & testing untuk evaluasi model."
      ],
      "metadata": {
        "id": "onfUsz1RuCnD"
      }
    },
    {
      "cell_type": "code",
      "source": [
        "X = df.drop(columns=df.columns[-1])\n",
        "y = df[df.columns[-1]]\n",
        "X_train, X_test, y_train, y_test = train_test_split(X, y, test_size=0.2, random_state=42)\n",
        "\n",
        "print(\"\\n=== Splitting Data ===\")\n",
        "print(\"Jumlah data training:\", X_train.shape)\n",
        "print(\"Jumlah data testing:\", X_test.shape)"
      ],
      "metadata": {
        "id": "sygaGiq-uFJr"
      },
      "execution_count": null,
      "outputs": []
    }
  ]
}