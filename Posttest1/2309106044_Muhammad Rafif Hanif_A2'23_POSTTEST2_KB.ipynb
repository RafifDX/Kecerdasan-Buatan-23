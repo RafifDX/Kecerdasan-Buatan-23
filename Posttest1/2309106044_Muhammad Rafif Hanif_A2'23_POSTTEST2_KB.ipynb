# ======================================================
# ANALISIS DATASET TOP2020.CSV (JUPYTER / COLAB)
# ======================================================

# 1. Import library
import pandas as pd
import matplotlib.pyplot as plt
import seaborn as sns

%matplotlib inline

# 2. Load dataset
df = pd.read_csv('top2020.csv')

# 3. Tampilkan 5 record pertama untuk cek data
print("5 record pertama:")
display(df.head())

# 4. Statistik deskriptif untuk attribute numerik
print("\nStatistik deskriptif (numerik):")
display(df.describe())

# 5. 10 record pertama dari attribute numerik
print("\n10 record pertama (numerik):")
display(df.select_dtypes(include='number').head(10))

# 6. Informasi dataset
print("\nInformasi dataset:")
print("Jumlah record:", len(df))
print("Jumlah attribute:", len(df.columns))
print("Nama attribute:", list(df.columns))
print("Jumlah attribute numerik:", len(df.select_dtypes(include='number').columns))

# 7. Jumlah label unik untuk attribute kategorikal (object)
categorical_cols = df.select_dtypes(include='object').columns
for col in categorical_cols:
    print(f"\nAttribute '{col}':")
    print(df[col].value_counts())
    print("-"*30)

# 8. Visualisasi dataset

# Histogram untuk attribute numerik
num_cols = df.select_dtypes(include='number').columns
df[num_cols].hist(bins=15, figsize=(15,8), color='skyblue', edgecolor='black')
plt.suptitle('Distribusi Attribute Numerik')
plt.show()

# Boxplot untuk melihat distribusi & outlier
plt.figure(figsize=(10,6))
sns.boxplot(data=df[num_cols])
plt.title('Boxplot Attribute Numerik')
plt.show()

# 9. Korelasi dataset (Heatmap)
plt.figure(figsize=(10,8))
sns.heatmap(df[num_cols].corr(), annot=True, cmap='coolwarm', linewidths=0.5)
plt.title('Heatmap Korelasi Attribute Numerik')
plt.show()

# 10. Kesimpulan
print("""
### Kesimpulan Analisis Top2020.csv
1. Statistik deskriptif menunjukkan distribusi, rata-rata, standar deviasi, serta nilai min/max/Q1/Q2/Q3 untuk semua attribute numerik.
2. 10 record pertama memberikan gambaran awal data numerik.
3. Informasi dataset mempermudah mengetahui jumlah record, attribute, dan tipe data.
4. Jumlah label unik di attribute kategorikal memberikan insight variabilitas data non-numerik.
5. Histogram & boxplot membantu memahami distribusi dan mendeteksi outlier.
6. Heatmap korelasi memperlihatkan hubungan antar attribute numerik, berguna untuk analisis lebih lanjut.
""")
