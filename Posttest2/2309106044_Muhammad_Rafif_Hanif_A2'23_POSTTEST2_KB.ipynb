{
  "nbformat": 4,
  "nbformat_minor": 0,
  "metadata": {
    "colab": {
      "provenance": []
    },
    "kernelspec": {
      "name": "python3",
      "display_name": "Python 3"
    },
    "language_info": {
      "name": "python"
    }
  },
  "cells": [
    {
      "cell_type": "markdown",
      "source": [
        "**1. Import Library**"
      ],
      "metadata": {
        "id": "iCLPqW7U7lVV"
      }
    },
    {
      "cell_type": "code",
      "source": [
        "import pandas as pd\n",
        "import matplotlib.pyplot as plt\n",
        "import seaborn as sns\n",
        "\n",
        "%matplotlib inline\n"
      ],
      "metadata": {
        "id": "MKkT46vu7zuA"
      },
      "execution_count": null,
      "outputs": []
    },
    {
      "cell_type": "markdown",
      "source": [
        "**2. Load Dataset**"
      ],
      "metadata": {
        "id": "YJEBsENP713v"
      }
    },
    {
      "cell_type": "code",
      "source": [
        "df = pd.read_csv('top2020.csv')\n",
        "\n",
        "# Tampilkan 5 record pertama\n",
        "df.head()\n"
      ],
      "metadata": {
        "id": "wj35TRKJ8Bdd"
      },
      "execution_count": null,
      "outputs": []
    },
    {
      "cell_type": "markdown",
      "source": [
        "**3. Statistik Deskriptif (numerik)**"
      ],
      "metadata": {
        "id": "2q9QNCDm8EWi"
      }
    },
    {
      "cell_type": "code",
      "source": [
        "# Menampilkan rata-rata, std, min, max, Q1, Q2, Q3\n",
        "df.describe()\n"
      ],
      "metadata": {
        "id": "O2AOIBHJ8JZu"
      },
      "execution_count": null,
      "outputs": []
    },
    {
      "cell_type": "markdown",
      "source": [
        "**4. Tampilkan 10 Record Pertama**"
      ],
      "metadata": {
        "id": "IvxSj6ft8MVt"
      }
    },
    {
      "cell_type": "code",
      "source": [
        "df.select_dtypes(include='number').head(10)"
      ],
      "metadata": {
        "id": "enUpVTL78Ur9"
      },
      "execution_count": null,
      "outputs": []
    },
    {
      "cell_type": "markdown",
      "source": [
        "**5. Informasi Dataset**"
      ],
      "metadata": {
        "id": "5EWEiBmJ8XNv"
      }
    },
    {
      "cell_type": "code",
      "source": [
        "print(\"Jumlah record:\", len(df))\n",
        "print(\"Jumlah attribute:\", len(df.columns))\n",
        "print(\"Nama attribute:\", list(df.columns))\n",
        "print(\"Jumlah attribute numerik:\", len(df.select_dtypes(include='number').columns))"
      ],
      "metadata": {
        "id": "qmfT-c3d8aX3"
      },
      "execution_count": null,
      "outputs": []
    },
    {
      "cell_type": "markdown",
      "source": [
        "**6. Jumlah Label Unik Utuk Attribute Object**"
      ],
      "metadata": {
        "id": "IWMrmJuL8cgp"
      }
    },
    {
      "cell_type": "code",
      "source": [
        "categorical_cols = df.select_dtypes(include='object').columns\n",
        "\n",
        "for col in categorical_cols:\n",
        "    print(f\"Attribute '{col}':\")\n",
        "    print(df[col].value_counts())\n",
        "    print(\"-\"*30)"
      ],
      "metadata": {
        "id": "tq4lq-im8kc2"
      },
      "execution_count": null,
      "outputs": []
    },
    {
      "cell_type": "markdown",
      "source": [
        "**7. Visualisasi Dataset**"
      ],
      "metadata": {
        "id": "g_ulY9ZS8obA"
      }
    },
    {
      "cell_type": "markdown",
      "source": [
        "Histogram (distribusi numerik)"
      ],
      "metadata": {
        "id": "1qv70Jqs8tyZ"
      }
    },
    {
      "cell_type": "code",
      "source": [
        "num_cols = df.select_dtypes(include='number').columns\n",
        "\n",
        "df[num_cols].hist(bins=15, figsize=(15,8), color='skyblue', edgecolor='black')\n",
        "plt.suptitle('Distribusi Attribute Numerik')\n",
        "plt.show()"
      ],
      "metadata": {
        "id": "j4Isf3Mz8w6Z"
      },
      "execution_count": null,
      "outputs": []
    },
    {
      "cell_type": "markdown",
      "source": [
        "Boxplot (untuk outlier)"
      ],
      "metadata": {
        "id": "3RE7i5-z80Jl"
      }
    },
    {
      "cell_type": "code",
      "source": [
        "plt.figure(figsize=(10,6))\n",
        "sns.boxplot(data=df[num_cols])\n",
        "plt.title('Boxplot Attribute Numerik')\n",
        "plt.show()"
      ],
      "metadata": {
        "id": "7nfBq4Hv9AgC"
      },
      "execution_count": null,
      "outputs": []
    },
    {
      "cell_type": "markdown",
      "source": [
        "**8. Korelasi Dataset (heatmap)**"
      ],
      "metadata": {
        "id": "hkYiLc4G9EaV"
      }
    },
    {
      "cell_type": "code",
      "source": [
        "plt.figure(figsize=(10,8))\n",
        "sns.heatmap(df[num_cols].corr(), annot=True, cmap='coolwarm', linewidths=0.5)\n",
        "plt.title('Heatmap Korelasi Attribute Numerik')\n",
        "plt.show()"
      ],
      "metadata": {
        "id": "zhkIC_qU9IGc"
      },
      "execution_count": null,
      "outputs": []
    },
    {
      "cell_type": "markdown",
      "source": [
        "**9. Kesimpulan analisis**"
      ],
      "metadata": {
        "id": "ro_dpIUC9Kmw"
      }
    },
    {
      "cell_type": "markdown",
      "source": [
        "1. Statistik deskriptif menunjukkan distribusi, rata-rata, standar deviasi, serta nilai min/max/Q1/Q2/Q3 untuk semua attribute numerik.\n",
        "2. 10 record pertama memberikan gambaran awal data numerik.\n",
        "3. Informasi dataset mempermudah mengetahui jumlah record, attribute, dan tipe data.\n",
        "4. Jumlah label unik di attribute kategorikal memberikan insight variabilitas data non-numerik.\n",
        "5. Histogram & boxplot membantu memahami distribusi dan mendeteksi outlier.\n",
        "6. Heatmap korelasi memperlihatkan hubungan antar attribute numerik, berguna untuk analisis lebih lanjut."
      ],
      "metadata": {
        "id": "3k8MjvwU9X8N"
      }
    }
  ]
}